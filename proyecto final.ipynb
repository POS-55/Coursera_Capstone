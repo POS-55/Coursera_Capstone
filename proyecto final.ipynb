{
 "cells": [
  {
   "cell_type": "markdown",
   "id": "ab22fd13",
   "metadata": {},
   "source": [
    "# Este notebook se utilizara para el proyecto final de Ciencia de Datos Aplicada"
   ]
  },
  {
   "cell_type": "code",
   "execution_count": 6,
   "id": "fee395e9",
   "metadata": {},
   "outputs": [
    {
     "name": "stdout",
     "output_type": "stream",
     "text": [
      "¡Hola, Proyecto Final del Curso!\n"
     ]
    }
   ],
   "source": [
    "import pandas as pd\n",
    "import numpy as np\n",
    "\n",
    "print(\"¡Hola, Proyecto Final del Curso!\")"
   ]
  },
  {
   "cell_type": "code",
   "execution_count": null,
   "id": "16d97ce9",
   "metadata": {},
   "outputs": [],
   "source": []
  }
 ],
 "metadata": {
  "kernelspec": {
   "display_name": "Python 3 (ipykernel)",
   "language": "python",
   "name": "python3"
  },
  "language_info": {
   "codemirror_mode": {
    "name": "ipython",
    "version": 3
   },
   "file_extension": ".py",
   "mimetype": "text/x-python",
   "name": "python",
   "nbconvert_exporter": "python",
   "pygments_lexer": "ipython3",
   "version": "3.9.12"
  }
 },
 "nbformat": 4,
 "nbformat_minor": 5
}
